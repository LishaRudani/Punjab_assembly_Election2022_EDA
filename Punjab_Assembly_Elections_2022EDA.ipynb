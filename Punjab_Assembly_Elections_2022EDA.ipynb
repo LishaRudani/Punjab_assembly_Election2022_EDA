{
  "nbformat": 4,
  "nbformat_minor": 0,
  "metadata": {
    "colab": {
      "provenance": [],
      "authorship_tag": "ABX9TyMMqYhgSrt6AGIDgryXwdRe",
      "include_colab_link": true
    },
    "kernelspec": {
      "name": "python3",
      "display_name": "Python 3"
    },
    "language_info": {
      "name": "python"
    }
  },
  "cells": [
    {
      "cell_type": "markdown",
      "metadata": {
        "id": "view-in-github",
        "colab_type": "text"
      },
      "source": [
        "<a href=\"https://colab.research.google.com/github/LishaRudani/Punjab_assembly_Election2022_EDA/blob/main/Punjab_Assembly_Elections_2022EDA.ipynb\" target=\"_parent\"><img src=\"https://colab.research.google.com/assets/colab-badge.svg\" alt=\"Open In Colab\"/></a>"
      ]
    },
    {
      "cell_type": "code",
      "source": [
        "import numpy as np\n",
        "import pandas as pd\n",
        "import seaborn as sns\n",
        "import matplotlib.pyplot as plt"
      ],
      "metadata": {
        "id": "wfwVSaLZvJod"
      },
      "execution_count": null,
      "outputs": []
    },
    {
      "cell_type": "code",
      "source": [
        "from google.colab import drive\n",
        "drive.mount('/content/drive')"
      ],
      "metadata": {
        "colab": {
          "base_uri": "https://localhost:8080/"
        },
        "id": "QtrCNKjC5PyS",
        "outputId": "7d0f6731-c2dd-4626-be5f-a5fe1416d0f5"
      },
      "execution_count": null,
      "outputs": [
        {
          "output_type": "stream",
          "name": "stdout",
          "text": [
            "Mounted at /content/drive\n"
          ]
        }
      ]
    },
    {
      "cell_type": "code",
      "source": [
        "!unzip /content/drive/MyDrive/Teach_Foundation_of_ML/project/Regression/archive.zip"
      ],
      "metadata": {
        "colab": {
          "base_uri": "https://localhost:8080/"
        },
        "id": "EpI9JJbg5P1e",
        "outputId": "4818f516-7d43-4013-c5f2-50ce387f2255"
      },
      "execution_count": null,
      "outputs": [
        {
          "output_type": "stream",
          "name": "stdout",
          "text": [
            "unzip:  cannot find or open /content/drive/MyDrive/Teach_Foundation_of_ML/project/Regression/archive.zip, /content/drive/MyDrive/Teach_Foundation_of_ML/project/Regression/archive.zip.zip or /content/drive/MyDrive/Teach_Foundation_of_ML/project/Regression/archive.zip.ZIP.\n"
          ]
        }
      ]
    },
    {
      "cell_type": "code",
      "source": [
        "data= pd.read_csv('/content/drive/MyDrive/Punjab_Dataset/Punjab Assembly Elections 2022.csv')"
      ],
      "metadata": {
        "id": "QvHu4FF55QAe"
      },
      "execution_count": null,
      "outputs": []
    },
    {
      "cell_type": "code",
      "source": [
        "data.head()"
      ],
      "metadata": {
        "colab": {
          "base_uri": "https://localhost:8080/",
          "height": 206
        },
        "id": "tKXOeEGf5QOo",
        "outputId": "623befc5-2a50-43d3-b1f1-716dc2f9ac2f"
      },
      "execution_count": null,
      "outputs": [
        {
          "output_type": "execute_result",
          "data": {
            "text/plain": [
              "    AC Name  AC No. Type         District                 Winning Candidate  \\\n",
              "0    Abohar      81  GEN         Firozpur                    SANDEEP JAKHAR   \n",
              "1   Adampur      38   SC        Jalandhar            SUKHWINDER SINGH KOTLI   \n",
              "2    Ajnala      11  GEN         Amritsar            KULDEEP SINGH DHALIWAL   \n",
              "3  Amargarh     106  GEN          Sangrur  PROF. JASWANT SINGH GAJJAN MAJRA   \n",
              "4     Amloh      56  GEN  Fatehgarh Sahib      Gurinder Singh Garry Birring   \n",
              "\n",
              "                      Party  EVM Votes  Postal Votes\\t  Total Votes\\t  \\\n",
              "0  Indian National Congress      49390             534          49924   \n",
              "1  Indian National Congress      39373             181          39554   \n",
              "2           Aam Aadmi Party      43257             298          43555   \n",
              "3           Aam Aadmi Party      44294             229          44523   \n",
              "4           Aam Aadmi Party      52648             264          52912   \n",
              "\n",
              "   % of Votes  \n",
              "0       37.51  \n",
              "1       34.77  \n",
              "2       35.69  \n",
              "3       34.28  \n",
              "4       46.43  "
            ],
            "text/html": [
              "\n",
              "  <div id=\"df-2128871a-ec0a-4984-bce2-a85e23d66651\">\n",
              "    <div class=\"colab-df-container\">\n",
              "      <div>\n",
              "<style scoped>\n",
              "    .dataframe tbody tr th:only-of-type {\n",
              "        vertical-align: middle;\n",
              "    }\n",
              "\n",
              "    .dataframe tbody tr th {\n",
              "        vertical-align: top;\n",
              "    }\n",
              "\n",
              "    .dataframe thead th {\n",
              "        text-align: right;\n",
              "    }\n",
              "</style>\n",
              "<table border=\"1\" class=\"dataframe\">\n",
              "  <thead>\n",
              "    <tr style=\"text-align: right;\">\n",
              "      <th></th>\n",
              "      <th>AC Name</th>\n",
              "      <th>AC No.</th>\n",
              "      <th>Type</th>\n",
              "      <th>District</th>\n",
              "      <th>Winning Candidate</th>\n",
              "      <th>Party</th>\n",
              "      <th>EVM Votes</th>\n",
              "      <th>Postal Votes\\t</th>\n",
              "      <th>Total Votes\\t</th>\n",
              "      <th>% of Votes</th>\n",
              "    </tr>\n",
              "  </thead>\n",
              "  <tbody>\n",
              "    <tr>\n",
              "      <th>0</th>\n",
              "      <td>Abohar</td>\n",
              "      <td>81</td>\n",
              "      <td>GEN</td>\n",
              "      <td>Firozpur</td>\n",
              "      <td>SANDEEP JAKHAR</td>\n",
              "      <td>Indian National Congress</td>\n",
              "      <td>49390</td>\n",
              "      <td>534</td>\n",
              "      <td>49924</td>\n",
              "      <td>37.51</td>\n",
              "    </tr>\n",
              "    <tr>\n",
              "      <th>1</th>\n",
              "      <td>Adampur</td>\n",
              "      <td>38</td>\n",
              "      <td>SC</td>\n",
              "      <td>Jalandhar</td>\n",
              "      <td>SUKHWINDER SINGH KOTLI</td>\n",
              "      <td>Indian National Congress</td>\n",
              "      <td>39373</td>\n",
              "      <td>181</td>\n",
              "      <td>39554</td>\n",
              "      <td>34.77</td>\n",
              "    </tr>\n",
              "    <tr>\n",
              "      <th>2</th>\n",
              "      <td>Ajnala</td>\n",
              "      <td>11</td>\n",
              "      <td>GEN</td>\n",
              "      <td>Amritsar</td>\n",
              "      <td>KULDEEP SINGH DHALIWAL</td>\n",
              "      <td>Aam Aadmi Party</td>\n",
              "      <td>43257</td>\n",
              "      <td>298</td>\n",
              "      <td>43555</td>\n",
              "      <td>35.69</td>\n",
              "    </tr>\n",
              "    <tr>\n",
              "      <th>3</th>\n",
              "      <td>Amargarh</td>\n",
              "      <td>106</td>\n",
              "      <td>GEN</td>\n",
              "      <td>Sangrur</td>\n",
              "      <td>PROF. JASWANT SINGH GAJJAN MAJRA</td>\n",
              "      <td>Aam Aadmi Party</td>\n",
              "      <td>44294</td>\n",
              "      <td>229</td>\n",
              "      <td>44523</td>\n",
              "      <td>34.28</td>\n",
              "    </tr>\n",
              "    <tr>\n",
              "      <th>4</th>\n",
              "      <td>Amloh</td>\n",
              "      <td>56</td>\n",
              "      <td>GEN</td>\n",
              "      <td>Fatehgarh Sahib</td>\n",
              "      <td>Gurinder Singh Garry Birring</td>\n",
              "      <td>Aam Aadmi Party</td>\n",
              "      <td>52648</td>\n",
              "      <td>264</td>\n",
              "      <td>52912</td>\n",
              "      <td>46.43</td>\n",
              "    </tr>\n",
              "  </tbody>\n",
              "</table>\n",
              "</div>\n",
              "      <button class=\"colab-df-convert\" onclick=\"convertToInteractive('df-2128871a-ec0a-4984-bce2-a85e23d66651')\"\n",
              "              title=\"Convert this dataframe to an interactive table.\"\n",
              "              style=\"display:none;\">\n",
              "        \n",
              "  <svg xmlns=\"http://www.w3.org/2000/svg\" height=\"24px\"viewBox=\"0 0 24 24\"\n",
              "       width=\"24px\">\n",
              "    <path d=\"M0 0h24v24H0V0z\" fill=\"none\"/>\n",
              "    <path d=\"M18.56 5.44l.94 2.06.94-2.06 2.06-.94-2.06-.94-.94-2.06-.94 2.06-2.06.94zm-11 1L8.5 8.5l.94-2.06 2.06-.94-2.06-.94L8.5 2.5l-.94 2.06-2.06.94zm10 10l.94 2.06.94-2.06 2.06-.94-2.06-.94-.94-2.06-.94 2.06-2.06.94z\"/><path d=\"M17.41 7.96l-1.37-1.37c-.4-.4-.92-.59-1.43-.59-.52 0-1.04.2-1.43.59L10.3 9.45l-7.72 7.72c-.78.78-.78 2.05 0 2.83L4 21.41c.39.39.9.59 1.41.59.51 0 1.02-.2 1.41-.59l7.78-7.78 2.81-2.81c.8-.78.8-2.07 0-2.86zM5.41 20L4 18.59l7.72-7.72 1.47 1.35L5.41 20z\"/>\n",
              "  </svg>\n",
              "      </button>\n",
              "      \n",
              "  <style>\n",
              "    .colab-df-container {\n",
              "      display:flex;\n",
              "      flex-wrap:wrap;\n",
              "      gap: 12px;\n",
              "    }\n",
              "\n",
              "    .colab-df-convert {\n",
              "      background-color: #E8F0FE;\n",
              "      border: none;\n",
              "      border-radius: 50%;\n",
              "      cursor: pointer;\n",
              "      display: none;\n",
              "      fill: #1967D2;\n",
              "      height: 32px;\n",
              "      padding: 0 0 0 0;\n",
              "      width: 32px;\n",
              "    }\n",
              "\n",
              "    .colab-df-convert:hover {\n",
              "      background-color: #E2EBFA;\n",
              "      box-shadow: 0px 1px 2px rgba(60, 64, 67, 0.3), 0px 1px 3px 1px rgba(60, 64, 67, 0.15);\n",
              "      fill: #174EA6;\n",
              "    }\n",
              "\n",
              "    [theme=dark] .colab-df-convert {\n",
              "      background-color: #3B4455;\n",
              "      fill: #D2E3FC;\n",
              "    }\n",
              "\n",
              "    [theme=dark] .colab-df-convert:hover {\n",
              "      background-color: #434B5C;\n",
              "      box-shadow: 0px 1px 3px 1px rgba(0, 0, 0, 0.15);\n",
              "      filter: drop-shadow(0px 1px 2px rgba(0, 0, 0, 0.3));\n",
              "      fill: #FFFFFF;\n",
              "    }\n",
              "  </style>\n",
              "\n",
              "      <script>\n",
              "        const buttonEl =\n",
              "          document.querySelector('#df-2128871a-ec0a-4984-bce2-a85e23d66651 button.colab-df-convert');\n",
              "        buttonEl.style.display =\n",
              "          google.colab.kernel.accessAllowed ? 'block' : 'none';\n",
              "\n",
              "        async function convertToInteractive(key) {\n",
              "          const element = document.querySelector('#df-2128871a-ec0a-4984-bce2-a85e23d66651');\n",
              "          const dataTable =\n",
              "            await google.colab.kernel.invokeFunction('convertToInteractive',\n",
              "                                                     [key], {});\n",
              "          if (!dataTable) return;\n",
              "\n",
              "          const docLinkHtml = 'Like what you see? Visit the ' +\n",
              "            '<a target=\"_blank\" href=https://colab.research.google.com/notebooks/data_table.ipynb>data table notebook</a>'\n",
              "            + ' to learn more about interactive tables.';\n",
              "          element.innerHTML = '';\n",
              "          dataTable['output_type'] = 'display_data';\n",
              "          await google.colab.output.renderOutput(dataTable, element);\n",
              "          const docLink = document.createElement('div');\n",
              "          docLink.innerHTML = docLinkHtml;\n",
              "          element.appendChild(docLink);\n",
              "        }\n",
              "      </script>\n",
              "    </div>\n",
              "  </div>\n",
              "  "
            ]
          },
          "metadata": {},
          "execution_count": 7
        }
      ]
    },
    {
      "cell_type": "code",
      "source": [
        "data.tail()"
      ],
      "metadata": {
        "colab": {
          "base_uri": "https://localhost:8080/",
          "height": 206
        },
        "id": "NKBHqX475W82",
        "outputId": "2ab9d0f8-293e-4fe2-912e-c1aa171cb5cb"
      },
      "execution_count": null,
      "outputs": [
        {
          "output_type": "execute_result",
          "data": {
            "text/plain": [
              "           AC Name  AC No. Type    District        Winning Candidate  \\\n",
              "112          Sunam     101  GEN     Sangrur               AMAN ARORA   \n",
              "113  Talwandi Sabo      94  GEN    Bathinda     Prof. Baljinder Kaur   \n",
              "114     Tarn Taran      21  GEN    Amritsar  Dr. Kashmir Singh Sohal   \n",
              "115          Urmar      41  GEN  Hoshiarpur   Jasvir Singh Raja Gill   \n",
              "116           Zira      75  GEN    Firozpur           Naresh Kataria   \n",
              "\n",
              "               Party  EVM Votes  Postal Votes\\t  Total Votes\\t  % of Votes  \n",
              "112  Aam Aadmi Party      94274             520          94794       61.28  \n",
              "113  Aam Aadmi Party      48358             395          48753       37.04  \n",
              "114  Aam Aadmi Party      52469             466          52935       40.45  \n",
              "115  Aam Aadmi Party      42029             547          42576       34.01  \n",
              "116  Aam Aadmi Party      63709             325          64034       42.35  "
            ],
            "text/html": [
              "\n",
              "  <div id=\"df-381bf41e-56de-474a-9163-97034db7e641\">\n",
              "    <div class=\"colab-df-container\">\n",
              "      <div>\n",
              "<style scoped>\n",
              "    .dataframe tbody tr th:only-of-type {\n",
              "        vertical-align: middle;\n",
              "    }\n",
              "\n",
              "    .dataframe tbody tr th {\n",
              "        vertical-align: top;\n",
              "    }\n",
              "\n",
              "    .dataframe thead th {\n",
              "        text-align: right;\n",
              "    }\n",
              "</style>\n",
              "<table border=\"1\" class=\"dataframe\">\n",
              "  <thead>\n",
              "    <tr style=\"text-align: right;\">\n",
              "      <th></th>\n",
              "      <th>AC Name</th>\n",
              "      <th>AC No.</th>\n",
              "      <th>Type</th>\n",
              "      <th>District</th>\n",
              "      <th>Winning Candidate</th>\n",
              "      <th>Party</th>\n",
              "      <th>EVM Votes</th>\n",
              "      <th>Postal Votes\\t</th>\n",
              "      <th>Total Votes\\t</th>\n",
              "      <th>% of Votes</th>\n",
              "    </tr>\n",
              "  </thead>\n",
              "  <tbody>\n",
              "    <tr>\n",
              "      <th>112</th>\n",
              "      <td>Sunam</td>\n",
              "      <td>101</td>\n",
              "      <td>GEN</td>\n",
              "      <td>Sangrur</td>\n",
              "      <td>AMAN ARORA</td>\n",
              "      <td>Aam Aadmi Party</td>\n",
              "      <td>94274</td>\n",
              "      <td>520</td>\n",
              "      <td>94794</td>\n",
              "      <td>61.28</td>\n",
              "    </tr>\n",
              "    <tr>\n",
              "      <th>113</th>\n",
              "      <td>Talwandi Sabo</td>\n",
              "      <td>94</td>\n",
              "      <td>GEN</td>\n",
              "      <td>Bathinda</td>\n",
              "      <td>Prof. Baljinder Kaur</td>\n",
              "      <td>Aam Aadmi Party</td>\n",
              "      <td>48358</td>\n",
              "      <td>395</td>\n",
              "      <td>48753</td>\n",
              "      <td>37.04</td>\n",
              "    </tr>\n",
              "    <tr>\n",
              "      <th>114</th>\n",
              "      <td>Tarn Taran</td>\n",
              "      <td>21</td>\n",
              "      <td>GEN</td>\n",
              "      <td>Amritsar</td>\n",
              "      <td>Dr. Kashmir Singh Sohal</td>\n",
              "      <td>Aam Aadmi Party</td>\n",
              "      <td>52469</td>\n",
              "      <td>466</td>\n",
              "      <td>52935</td>\n",
              "      <td>40.45</td>\n",
              "    </tr>\n",
              "    <tr>\n",
              "      <th>115</th>\n",
              "      <td>Urmar</td>\n",
              "      <td>41</td>\n",
              "      <td>GEN</td>\n",
              "      <td>Hoshiarpur</td>\n",
              "      <td>Jasvir Singh Raja Gill</td>\n",
              "      <td>Aam Aadmi Party</td>\n",
              "      <td>42029</td>\n",
              "      <td>547</td>\n",
              "      <td>42576</td>\n",
              "      <td>34.01</td>\n",
              "    </tr>\n",
              "    <tr>\n",
              "      <th>116</th>\n",
              "      <td>Zira</td>\n",
              "      <td>75</td>\n",
              "      <td>GEN</td>\n",
              "      <td>Firozpur</td>\n",
              "      <td>Naresh Kataria</td>\n",
              "      <td>Aam Aadmi Party</td>\n",
              "      <td>63709</td>\n",
              "      <td>325</td>\n",
              "      <td>64034</td>\n",
              "      <td>42.35</td>\n",
              "    </tr>\n",
              "  </tbody>\n",
              "</table>\n",
              "</div>\n",
              "      <button class=\"colab-df-convert\" onclick=\"convertToInteractive('df-381bf41e-56de-474a-9163-97034db7e641')\"\n",
              "              title=\"Convert this dataframe to an interactive table.\"\n",
              "              style=\"display:none;\">\n",
              "        \n",
              "  <svg xmlns=\"http://www.w3.org/2000/svg\" height=\"24px\"viewBox=\"0 0 24 24\"\n",
              "       width=\"24px\">\n",
              "    <path d=\"M0 0h24v24H0V0z\" fill=\"none\"/>\n",
              "    <path d=\"M18.56 5.44l.94 2.06.94-2.06 2.06-.94-2.06-.94-.94-2.06-.94 2.06-2.06.94zm-11 1L8.5 8.5l.94-2.06 2.06-.94-2.06-.94L8.5 2.5l-.94 2.06-2.06.94zm10 10l.94 2.06.94-2.06 2.06-.94-2.06-.94-.94-2.06-.94 2.06-2.06.94z\"/><path d=\"M17.41 7.96l-1.37-1.37c-.4-.4-.92-.59-1.43-.59-.52 0-1.04.2-1.43.59L10.3 9.45l-7.72 7.72c-.78.78-.78 2.05 0 2.83L4 21.41c.39.39.9.59 1.41.59.51 0 1.02-.2 1.41-.59l7.78-7.78 2.81-2.81c.8-.78.8-2.07 0-2.86zM5.41 20L4 18.59l7.72-7.72 1.47 1.35L5.41 20z\"/>\n",
              "  </svg>\n",
              "      </button>\n",
              "      \n",
              "  <style>\n",
              "    .colab-df-container {\n",
              "      display:flex;\n",
              "      flex-wrap:wrap;\n",
              "      gap: 12px;\n",
              "    }\n",
              "\n",
              "    .colab-df-convert {\n",
              "      background-color: #E8F0FE;\n",
              "      border: none;\n",
              "      border-radius: 50%;\n",
              "      cursor: pointer;\n",
              "      display: none;\n",
              "      fill: #1967D2;\n",
              "      height: 32px;\n",
              "      padding: 0 0 0 0;\n",
              "      width: 32px;\n",
              "    }\n",
              "\n",
              "    .colab-df-convert:hover {\n",
              "      background-color: #E2EBFA;\n",
              "      box-shadow: 0px 1px 2px rgba(60, 64, 67, 0.3), 0px 1px 3px 1px rgba(60, 64, 67, 0.15);\n",
              "      fill: #174EA6;\n",
              "    }\n",
              "\n",
              "    [theme=dark] .colab-df-convert {\n",
              "      background-color: #3B4455;\n",
              "      fill: #D2E3FC;\n",
              "    }\n",
              "\n",
              "    [theme=dark] .colab-df-convert:hover {\n",
              "      background-color: #434B5C;\n",
              "      box-shadow: 0px 1px 3px 1px rgba(0, 0, 0, 0.15);\n",
              "      filter: drop-shadow(0px 1px 2px rgba(0, 0, 0, 0.3));\n",
              "      fill: #FFFFFF;\n",
              "    }\n",
              "  </style>\n",
              "\n",
              "      <script>\n",
              "        const buttonEl =\n",
              "          document.querySelector('#df-381bf41e-56de-474a-9163-97034db7e641 button.colab-df-convert');\n",
              "        buttonEl.style.display =\n",
              "          google.colab.kernel.accessAllowed ? 'block' : 'none';\n",
              "\n",
              "        async function convertToInteractive(key) {\n",
              "          const element = document.querySelector('#df-381bf41e-56de-474a-9163-97034db7e641');\n",
              "          const dataTable =\n",
              "            await google.colab.kernel.invokeFunction('convertToInteractive',\n",
              "                                                     [key], {});\n",
              "          if (!dataTable) return;\n",
              "\n",
              "          const docLinkHtml = 'Like what you see? Visit the ' +\n",
              "            '<a target=\"_blank\" href=https://colab.research.google.com/notebooks/data_table.ipynb>data table notebook</a>'\n",
              "            + ' to learn more about interactive tables.';\n",
              "          element.innerHTML = '';\n",
              "          dataTable['output_type'] = 'display_data';\n",
              "          await google.colab.output.renderOutput(dataTable, element);\n",
              "          const docLink = document.createElement('div');\n",
              "          docLink.innerHTML = docLinkHtml;\n",
              "          element.appendChild(docLink);\n",
              "        }\n",
              "      </script>\n",
              "    </div>\n",
              "  </div>\n",
              "  "
            ]
          },
          "metadata": {},
          "execution_count": 8
        }
      ]
    },
    {
      "cell_type": "code",
      "source": [
        "data.shape"
      ],
      "metadata": {
        "colab": {
          "base_uri": "https://localhost:8080/"
        },
        "id": "UX1pff8I5a7B",
        "outputId": "4198a6df-2a29-49b8-d717-dbc502cb4a9c"
      },
      "execution_count": null,
      "outputs": [
        {
          "output_type": "execute_result",
          "data": {
            "text/plain": [
              "(117, 10)"
            ]
          },
          "metadata": {},
          "execution_count": 9
        }
      ]
    },
    {
      "cell_type": "code",
      "source": [
        "data.columns"
      ],
      "metadata": {
        "colab": {
          "base_uri": "https://localhost:8080/"
        },
        "id": "qYptb0Gn5bBS",
        "outputId": "8385681f-529e-4011-dc27-7a6ec0a54212"
      },
      "execution_count": null,
      "outputs": [
        {
          "output_type": "execute_result",
          "data": {
            "text/plain": [
              "Index(['AC Name', 'AC No.', 'Type', 'District', 'Winning Candidate', 'Party',\n",
              "       'EVM Votes', 'Postal Votes\\t', 'Total Votes\\t', '% of Votes'],\n",
              "      dtype='object')"
            ]
          },
          "metadata": {},
          "execution_count": 10
        }
      ]
    },
    {
      "cell_type": "code",
      "source": [
        "data.info()"
      ],
      "metadata": {
        "colab": {
          "base_uri": "https://localhost:8080/"
        },
        "id": "cn8Hiogv5bEc",
        "outputId": "0973e6a3-8b8d-40fe-d715-c1b27adb1319"
      },
      "execution_count": null,
      "outputs": [
        {
          "output_type": "stream",
          "name": "stdout",
          "text": [
            "<class 'pandas.core.frame.DataFrame'>\n",
            "RangeIndex: 117 entries, 0 to 116\n",
            "Data columns (total 10 columns):\n",
            " #   Column             Non-Null Count  Dtype  \n",
            "---  ------             --------------  -----  \n",
            " 0   AC Name            117 non-null    object \n",
            " 1   AC No.             117 non-null    int64  \n",
            " 2   Type               117 non-null    object \n",
            " 3   District           117 non-null    object \n",
            " 4   Winning Candidate  117 non-null    object \n",
            " 5   Party              117 non-null    object \n",
            " 6   EVM Votes          117 non-null    int64  \n",
            " 7   Postal Votes\t      117 non-null    int64  \n",
            " 8   Total Votes\t       117 non-null    int64  \n",
            " 9   % of Votes         117 non-null    float64\n",
            "dtypes: float64(1), int64(4), object(5)\n",
            "memory usage: 9.3+ KB\n"
          ]
        }
      ]
    },
    {
      "cell_type": "code",
      "source": [
        "data.describe()"
      ],
      "metadata": {
        "colab": {
          "base_uri": "https://localhost:8080/",
          "height": 300
        },
        "id": "5Sbb7y-A5jvC",
        "outputId": "2dafe86b-0b59-4d26-c8df-f2bc7ee7958a"
      },
      "execution_count": null,
      "outputs": [
        {
          "output_type": "execute_result",
          "data": {
            "text/plain": [
              "           AC No.     EVM Votes  Postal Votes\\t  Total Votes\\t  % of Votes\n",
              "count  117.000000    117.000000      117.000000     117.000000  117.000000\n",
              "mean    59.000000  57795.444444      413.128205   58208.572650   43.479231\n",
              "std     33.919021  15281.053220      239.501765   15394.568338    8.287270\n",
              "min      1.000000  29606.000000       70.000000   29903.000000   26.410000\n",
              "25%     30.000000  46802.000000      232.000000   46916.000000   36.550000\n",
              "50%     59.000000  55715.000000      396.000000   56155.000000   43.110000\n",
              "75%     88.000000  65698.000000      523.000000   66096.000000   49.610000\n",
              "max    117.000000  99200.000000     1548.000000  100023.000000   64.290000"
            ],
            "text/html": [
              "\n",
              "  <div id=\"df-22367247-c584-4477-91da-8ffdb71ac76f\">\n",
              "    <div class=\"colab-df-container\">\n",
              "      <div>\n",
              "<style scoped>\n",
              "    .dataframe tbody tr th:only-of-type {\n",
              "        vertical-align: middle;\n",
              "    }\n",
              "\n",
              "    .dataframe tbody tr th {\n",
              "        vertical-align: top;\n",
              "    }\n",
              "\n",
              "    .dataframe thead th {\n",
              "        text-align: right;\n",
              "    }\n",
              "</style>\n",
              "<table border=\"1\" class=\"dataframe\">\n",
              "  <thead>\n",
              "    <tr style=\"text-align: right;\">\n",
              "      <th></th>\n",
              "      <th>AC No.</th>\n",
              "      <th>EVM Votes</th>\n",
              "      <th>Postal Votes\\t</th>\n",
              "      <th>Total Votes\\t</th>\n",
              "      <th>% of Votes</th>\n",
              "    </tr>\n",
              "  </thead>\n",
              "  <tbody>\n",
              "    <tr>\n",
              "      <th>count</th>\n",
              "      <td>117.000000</td>\n",
              "      <td>117.000000</td>\n",
              "      <td>117.000000</td>\n",
              "      <td>117.000000</td>\n",
              "      <td>117.000000</td>\n",
              "    </tr>\n",
              "    <tr>\n",
              "      <th>mean</th>\n",
              "      <td>59.000000</td>\n",
              "      <td>57795.444444</td>\n",
              "      <td>413.128205</td>\n",
              "      <td>58208.572650</td>\n",
              "      <td>43.479231</td>\n",
              "    </tr>\n",
              "    <tr>\n",
              "      <th>std</th>\n",
              "      <td>33.919021</td>\n",
              "      <td>15281.053220</td>\n",
              "      <td>239.501765</td>\n",
              "      <td>15394.568338</td>\n",
              "      <td>8.287270</td>\n",
              "    </tr>\n",
              "    <tr>\n",
              "      <th>min</th>\n",
              "      <td>1.000000</td>\n",
              "      <td>29606.000000</td>\n",
              "      <td>70.000000</td>\n",
              "      <td>29903.000000</td>\n",
              "      <td>26.410000</td>\n",
              "    </tr>\n",
              "    <tr>\n",
              "      <th>25%</th>\n",
              "      <td>30.000000</td>\n",
              "      <td>46802.000000</td>\n",
              "      <td>232.000000</td>\n",
              "      <td>46916.000000</td>\n",
              "      <td>36.550000</td>\n",
              "    </tr>\n",
              "    <tr>\n",
              "      <th>50%</th>\n",
              "      <td>59.000000</td>\n",
              "      <td>55715.000000</td>\n",
              "      <td>396.000000</td>\n",
              "      <td>56155.000000</td>\n",
              "      <td>43.110000</td>\n",
              "    </tr>\n",
              "    <tr>\n",
              "      <th>75%</th>\n",
              "      <td>88.000000</td>\n",
              "      <td>65698.000000</td>\n",
              "      <td>523.000000</td>\n",
              "      <td>66096.000000</td>\n",
              "      <td>49.610000</td>\n",
              "    </tr>\n",
              "    <tr>\n",
              "      <th>max</th>\n",
              "      <td>117.000000</td>\n",
              "      <td>99200.000000</td>\n",
              "      <td>1548.000000</td>\n",
              "      <td>100023.000000</td>\n",
              "      <td>64.290000</td>\n",
              "    </tr>\n",
              "  </tbody>\n",
              "</table>\n",
              "</div>\n",
              "      <button class=\"colab-df-convert\" onclick=\"convertToInteractive('df-22367247-c584-4477-91da-8ffdb71ac76f')\"\n",
              "              title=\"Convert this dataframe to an interactive table.\"\n",
              "              style=\"display:none;\">\n",
              "        \n",
              "  <svg xmlns=\"http://www.w3.org/2000/svg\" height=\"24px\"viewBox=\"0 0 24 24\"\n",
              "       width=\"24px\">\n",
              "    <path d=\"M0 0h24v24H0V0z\" fill=\"none\"/>\n",
              "    <path d=\"M18.56 5.44l.94 2.06.94-2.06 2.06-.94-2.06-.94-.94-2.06-.94 2.06-2.06.94zm-11 1L8.5 8.5l.94-2.06 2.06-.94-2.06-.94L8.5 2.5l-.94 2.06-2.06.94zm10 10l.94 2.06.94-2.06 2.06-.94-2.06-.94-.94-2.06-.94 2.06-2.06.94z\"/><path d=\"M17.41 7.96l-1.37-1.37c-.4-.4-.92-.59-1.43-.59-.52 0-1.04.2-1.43.59L10.3 9.45l-7.72 7.72c-.78.78-.78 2.05 0 2.83L4 21.41c.39.39.9.59 1.41.59.51 0 1.02-.2 1.41-.59l7.78-7.78 2.81-2.81c.8-.78.8-2.07 0-2.86zM5.41 20L4 18.59l7.72-7.72 1.47 1.35L5.41 20z\"/>\n",
              "  </svg>\n",
              "      </button>\n",
              "      \n",
              "  <style>\n",
              "    .colab-df-container {\n",
              "      display:flex;\n",
              "      flex-wrap:wrap;\n",
              "      gap: 12px;\n",
              "    }\n",
              "\n",
              "    .colab-df-convert {\n",
              "      background-color: #E8F0FE;\n",
              "      border: none;\n",
              "      border-radius: 50%;\n",
              "      cursor: pointer;\n",
              "      display: none;\n",
              "      fill: #1967D2;\n",
              "      height: 32px;\n",
              "      padding: 0 0 0 0;\n",
              "      width: 32px;\n",
              "    }\n",
              "\n",
              "    .colab-df-convert:hover {\n",
              "      background-color: #E2EBFA;\n",
              "      box-shadow: 0px 1px 2px rgba(60, 64, 67, 0.3), 0px 1px 3px 1px rgba(60, 64, 67, 0.15);\n",
              "      fill: #174EA6;\n",
              "    }\n",
              "\n",
              "    [theme=dark] .colab-df-convert {\n",
              "      background-color: #3B4455;\n",
              "      fill: #D2E3FC;\n",
              "    }\n",
              "\n",
              "    [theme=dark] .colab-df-convert:hover {\n",
              "      background-color: #434B5C;\n",
              "      box-shadow: 0px 1px 3px 1px rgba(0, 0, 0, 0.15);\n",
              "      filter: drop-shadow(0px 1px 2px rgba(0, 0, 0, 0.3));\n",
              "      fill: #FFFFFF;\n",
              "    }\n",
              "  </style>\n",
              "\n",
              "      <script>\n",
              "        const buttonEl =\n",
              "          document.querySelector('#df-22367247-c584-4477-91da-8ffdb71ac76f button.colab-df-convert');\n",
              "        buttonEl.style.display =\n",
              "          google.colab.kernel.accessAllowed ? 'block' : 'none';\n",
              "\n",
              "        async function convertToInteractive(key) {\n",
              "          const element = document.querySelector('#df-22367247-c584-4477-91da-8ffdb71ac76f');\n",
              "          const dataTable =\n",
              "            await google.colab.kernel.invokeFunction('convertToInteractive',\n",
              "                                                     [key], {});\n",
              "          if (!dataTable) return;\n",
              "\n",
              "          const docLinkHtml = 'Like what you see? Visit the ' +\n",
              "            '<a target=\"_blank\" href=https://colab.research.google.com/notebooks/data_table.ipynb>data table notebook</a>'\n",
              "            + ' to learn more about interactive tables.';\n",
              "          element.innerHTML = '';\n",
              "          dataTable['output_type'] = 'display_data';\n",
              "          await google.colab.output.renderOutput(dataTable, element);\n",
              "          const docLink = document.createElement('div');\n",
              "          docLink.innerHTML = docLinkHtml;\n",
              "          element.appendChild(docLink);\n",
              "        }\n",
              "      </script>\n",
              "    </div>\n",
              "  </div>\n",
              "  "
            ]
          },
          "metadata": {},
          "execution_count": 12
        }
      ]
    },
    {
      "cell_type": "code",
      "source": [
        "data.isnull().sum()"
      ],
      "metadata": {
        "colab": {
          "base_uri": "https://localhost:8080/"
        },
        "id": "18Ec2xC_5mNr",
        "outputId": "e22a5901-b905-4556-d3de-280fb9b4289e"
      },
      "execution_count": null,
      "outputs": [
        {
          "output_type": "execute_result",
          "data": {
            "text/plain": [
              "AC Name              0\n",
              "AC No.               0\n",
              "Type                 0\n",
              "District             0\n",
              "Winning Candidate    0\n",
              "Party                0\n",
              "EVM Votes            0\n",
              "Postal Votes\\t       0\n",
              "Total Votes\\t        0\n",
              "% of Votes           0\n",
              "dtype: int64"
            ]
          },
          "metadata": {},
          "execution_count": 13
        }
      ]
    },
    {
      "cell_type": "code",
      "source": [
        "plt.figure(figsize = (12,8))\n",
        "plt.xticks(rotation = 90)\n",
        "sns.barplot(x=\"Party\", y=\"% of Votes\", hue=\"Type\" ,data=data)\n",
        "plt.title(\"Party vs Percentage of Votes\")\n",
        "plt.show()"
      ],
      "metadata": {
        "colab": {
          "base_uri": "https://localhost:8080/",
          "height": 628
        },
        "id": "H84D9xYs5piJ",
        "outputId": "30c495ee-3131-43b8-a4ce-000cc3cd218e"
      },
      "execution_count": null,
      "outputs": [
        {
          "output_type": "display_data",
          "data": {
            "text/plain": [
              "<Figure size 864x576 with 1 Axes>"
            ],
            "image/png": "[encoded data removed]"
          },
          "metadata": {
            "needs_background": "light"
          }
        }
      ]
    },
    {
      "cell_type": "code",
      "source": [
        "plt.figure(figsize = (12,8))\n",
        "plt.xticks(rotation = 90)\n",
        "sns.scatterplot(x=\"Party\", y=\"% of Votes\", hue=\"Type\" ,data=data)\n",
        "plt.title(\"Party vs Percentage of Votes\")\n",
        "plt.show()"
      ],
      "metadata": {
        "colab": {
          "base_uri": "https://localhost:8080/",
          "height": 628
        },
        "id": "1ejZijSc5tAZ",
        "outputId": "1bb7a781-aa1c-423c-c794-66970f25f59c"
      },
      "execution_count": null,
      "outputs": [
        {
          "output_type": "display_data",
          "data": {
            "text/plain": [
              "<Figure size 864x576 with 1 Axes>"
            ],
            "image/png": "[encoded data removed]"
          },
          "metadata": {
            "needs_background": "light"
          }
        }
      ]
    },
    {
      "cell_type": "code",
      "source": [
        "plt.figure(figsize = (12,8))\n",
        "plt.xticks(rotation = 90)\n",
        "sns.boxplot(x=\"Party\", y=\"% of Votes\", hue=\"Type\" ,data=data)\n",
        "plt.title(\"Party vs Percentage of Votes\")\n",
        "plt.show()"
      ],
      "metadata": {
        "colab": {
          "base_uri": "https://localhost:8080/",
          "height": 628
        },
        "id": "Hkb--IY852zL",
        "outputId": "ed6ab1cc-e243-4b27-f9d8-1e5c370e523f"
      },
      "execution_count": null,
      "outputs": [
        {
          "output_type": "display_data",
          "data": {
            "text/plain": [
              "<Figure size 864x576 with 1 Axes>"
            ],
            "image/png": "[encoded data removed]"
          },
          "metadata": {
            "needs_background": "light"
          }
        }
      ]
    },
    {
      "cell_type": "code",
      "source": [
        "import warnings\n",
        "warnings.filterwarnings('ignore')"
      ],
      "metadata": {
        "id": "eN4CLUv553jR"
      },
      "execution_count": null,
      "outputs": []
    },
    {
      "cell_type": "code",
      "source": [
        "plt.figure(figsize = (12,8))\n",
        "plt.xticks(rotation = 90)\n",
        "sns.distplot(data['Total Votes\\t'], kde=True)\n",
        "plt.show()"
      ],
      "metadata": {
        "colab": {
          "base_uri": "https://localhost:8080/",
          "height": 536
        },
        "id": "bCsLQvuM53tK",
        "outputId": "7616149a-7b36-41ce-be28-9ae5bf490543"
      },
      "execution_count": null,
      "outputs": [
        {
          "output_type": "display_data",
          "data": {
            "text/plain": [
              "<Figure size 864x576 with 1 Axes>"
            ],
            "image/png": "[encoded data removed]"
          },
          "metadata": {
            "needs_background": "light"
          }
        }
      ]
    },
    {
      "cell_type": "code",
      "source": [
        "sns.heatmap(data.corr(), fmt = \".2f\")"
      ],
      "metadata": {
        "colab": {
          "base_uri": "https://localhost:8080/",
          "height": 343
        },
        "id": "VVp-bOuw53w9",
        "outputId": "b6538f40-ac7f-4db1-a1f0-6047d0f21345"
      },
      "execution_count": null,
      "outputs": [
        {
          "output_type": "execute_result",
          "data": {
            "text/plain": [
              "<matplotlib.axes._subplots.AxesSubplot at 0x7fcb15fa2d60>"
            ]
          },
          "metadata": {},
          "execution_count": 19
        },
        {
          "output_type": "display_data",
          "data": {
            "text/plain": [
              "<Figure size 432x288 with 2 Axes>"
            ],
            "image/png": "[encoded data removed]"
          },
          "metadata": {
            "needs_background": "light"
          }
        }
      ]
    },
    {
      "cell_type": "code",
      "source": [],
      "metadata": {
        "id": "FvnaS5b6530G"
      },
      "execution_count": null,
      "outputs": []
    }
  ]
}